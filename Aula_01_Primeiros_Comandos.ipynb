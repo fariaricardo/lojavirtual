{
  "nbformat": 4,
  "nbformat_minor": 0,
  "metadata": {
    "colab": {
      "provenance": [],
      "authorship_tag": "ABX9TyMjUkTuwmFYdsqJV0RWxchT",
      "include_colab_link": true
    },
    "kernelspec": {
      "name": "python3",
      "display_name": "Python 3"
    },
    "language_info": {
      "name": "python"
    }
  },
  "cells": [
    {
      "cell_type": "markdown",
      "metadata": {
        "id": "view-in-github",
        "colab_type": "text"
      },
      "source": [
        "<a href=\"https://colab.research.google.com/github/fariaricardo/lojavirtual/blob/main/Aula_01_Primeiros_Comandos.ipynb\" target=\"_parent\"><img src=\"https://colab.research.google.com/assets/colab-badge.svg\" alt=\"Open In Colab\"/></a>"
      ]
    },
    {
      "cell_type": "code",
      "execution_count": null,
      "metadata": {
        "id": "Vd__iUY0SANS"
      },
      "outputs": [],
      "source": []
    },
    {
      "cell_type": "markdown",
      "source": [
        "**Aula 01 - Conceitos Básicos de Python**"
      ],
      "metadata": {
        "id": "9an8GoYnSY-y"
      }
    },
    {
      "cell_type": "markdown",
      "source": [],
      "metadata": {
        "id": "sdeKplU3Smvx"
      }
    },
    {
      "cell_type": "code",
      "source": [
        "a = 10; b = 15;"
      ],
      "metadata": {
        "id": "FKPr2dOkSnkd"
      },
      "execution_count": 1,
      "outputs": []
    },
    {
      "cell_type": "code",
      "source": [],
      "metadata": {
        "id": "6patE3sNS6I_"
      },
      "execution_count": null,
      "outputs": []
    },
    {
      "cell_type": "code",
      "source": [
        "print(\"Escreva o Resultado de A: \", a)\n",
        "print(\"Escreva os Resultados de b: \", b)"
      ],
      "metadata": {
        "colab": {
          "base_uri": "https://localhost:8080/"
        },
        "id": "FJz4ZhQtSv1D",
        "outputId": "119b3e47-1472-408f-81c7-4c2d97dbbcb3"
      },
      "execution_count": 7,
      "outputs": [
        {
          "output_type": "stream",
          "name": "stdout",
          "text": [
            "Escreva o Resultado de A:  10\n",
            "Escreva os Resultados de b:  15\n"
          ]
        }
      ]
    },
    {
      "cell_type": "code",
      "source": [],
      "metadata": {
        "id": "KziCp9DeTGwT"
      },
      "execution_count": null,
      "outputs": []
    }
  ]
}